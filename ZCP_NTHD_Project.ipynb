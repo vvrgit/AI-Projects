{
  "nbformat": 4,
  "nbformat_minor": 0,
  "metadata": {
    "colab": {
      "name": "ZCP-NTHD-Project.ipynb",
      "provenance": [],
      "include_colab_link": true
    },
    "kernelspec": {
      "name": "python3",
      "display_name": "Python 3"
    },
    "language_info": {
      "name": "python"
    }
  },
  "cells": [
    {
      "cell_type": "markdown",
      "metadata": {
        "id": "view-in-github",
        "colab_type": "text"
      },
      "source": [
        "<a href=\"https://colab.research.google.com/github/vvrgit/AI-Projects/blob/main/ZCP_NTHD_Project.ipynb\" target=\"_parent\"><img src=\"https://colab.research.google.com/assets/colab-badge.svg\" alt=\"Open In Colab\"/></a>"
      ]
    },
    {
      "cell_type": "markdown",
      "source": [
        "#Mount Google Drive#"
      ],
      "metadata": {
        "id": "gDeMNMsaufKq"
      }
    },
    {
      "cell_type": "code",
      "execution_count": 1,
      "metadata": {
        "colab": {
          "base_uri": "https://localhost:8080/"
        },
        "id": "5_2k3MpAoh92",
        "outputId": "823838c8-45d5-49bc-a9ba-5fb3480e43eb"
      },
      "outputs": [
        {
          "output_type": "stream",
          "name": "stdout",
          "text": [
            "Mounted at /content/drive\n"
          ]
        }
      ],
      "source": [
        "from google.colab import drive\n",
        "drive.mount('/content/drive')"
      ]
    },
    {
      "cell_type": "markdown",
      "source": [
        "#Import Libraries#"
      ],
      "metadata": {
        "id": "UEKmIlBVujIq"
      }
    },
    {
      "cell_type": "code",
      "source": [
        "# importing libraries  \n",
        "import numpy as nm  \n",
        "import matplotlib.pyplot as mtp  \n",
        "import pandas as pd"
      ],
      "metadata": {
        "id": "oClZC6L3pnjI"
      },
      "execution_count": 2,
      "outputs": []
    },
    {
      "cell_type": "markdown",
      "source": [
        "#ZCP-Dataset-01#"
      ],
      "metadata": {
        "id": "KdXmf8NyzHqs"
      }
    },
    {
      "cell_type": "markdown",
      "source": [
        "#Load Data#"
      ],
      "metadata": {
        "id": "xFfLGx6DumWJ"
      }
    },
    {
      "cell_type": "code",
      "source": [
        "# load dataset\n",
        "dataset03 = pd.read_csv(\"/content/drive/MyDrive/B.Tech Projects/2021-2022/ZCP/Noise-Data/ZCP-CSV/ZCP-NOISE-01.csv\")\n",
        "dataset03.head()"
      ],
      "metadata": {
        "colab": {
          "base_uri": "https://localhost:8080/",
          "height": 206
        },
        "id": "x5u54xayptVG",
        "outputId": "be443c8b-b67c-4914-a269-46113bda4e7b"
      },
      "execution_count": 15,
      "outputs": [
        {
          "output_type": "execute_result",
          "data": {
            "text/plain": [
              "        Slope  Intercept         R      RMSE  label\n",
              "0  323.707793  -0.001276  0.985857  0.007952      1\n",
              "1  278.334483   0.007161  0.965635  0.012121      0\n",
              "2  295.054647   0.001057  0.969708  0.012389      0\n",
              "3  296.718752   0.006121  0.968179  0.011155      0\n",
              "4  506.344807  -0.102235  0.937057  0.041172      0"
            ],
            "text/html": [
              "\n",
              "  <div id=\"df-54c200cc-176a-43c6-b967-b4ce7a102f16\">\n",
              "    <div class=\"colab-df-container\">\n",
              "      <div>\n",
              "<style scoped>\n",
              "    .dataframe tbody tr th:only-of-type {\n",
              "        vertical-align: middle;\n",
              "    }\n",
              "\n",
              "    .dataframe tbody tr th {\n",
              "        vertical-align: top;\n",
              "    }\n",
              "\n",
              "    .dataframe thead th {\n",
              "        text-align: right;\n",
              "    }\n",
              "</style>\n",
              "<table border=\"1\" class=\"dataframe\">\n",
              "  <thead>\n",
              "    <tr style=\"text-align: right;\">\n",
              "      <th></th>\n",
              "      <th>Slope</th>\n",
              "      <th>Intercept</th>\n",
              "      <th>R</th>\n",
              "      <th>RMSE</th>\n",
              "      <th>label</th>\n",
              "    </tr>\n",
              "  </thead>\n",
              "  <tbody>\n",
              "    <tr>\n",
              "      <th>0</th>\n",
              "      <td>323.707793</td>\n",
              "      <td>-0.001276</td>\n",
              "      <td>0.985857</td>\n",
              "      <td>0.007952</td>\n",
              "      <td>1</td>\n",
              "    </tr>\n",
              "    <tr>\n",
              "      <th>1</th>\n",
              "      <td>278.334483</td>\n",
              "      <td>0.007161</td>\n",
              "      <td>0.965635</td>\n",
              "      <td>0.012121</td>\n",
              "      <td>0</td>\n",
              "    </tr>\n",
              "    <tr>\n",
              "      <th>2</th>\n",
              "      <td>295.054647</td>\n",
              "      <td>0.001057</td>\n",
              "      <td>0.969708</td>\n",
              "      <td>0.012389</td>\n",
              "      <td>0</td>\n",
              "    </tr>\n",
              "    <tr>\n",
              "      <th>3</th>\n",
              "      <td>296.718752</td>\n",
              "      <td>0.006121</td>\n",
              "      <td>0.968179</td>\n",
              "      <td>0.011155</td>\n",
              "      <td>0</td>\n",
              "    </tr>\n",
              "    <tr>\n",
              "      <th>4</th>\n",
              "      <td>506.344807</td>\n",
              "      <td>-0.102235</td>\n",
              "      <td>0.937057</td>\n",
              "      <td>0.041172</td>\n",
              "      <td>0</td>\n",
              "    </tr>\n",
              "  </tbody>\n",
              "</table>\n",
              "</div>\n",
              "      <button class=\"colab-df-convert\" onclick=\"convertToInteractive('df-54c200cc-176a-43c6-b967-b4ce7a102f16')\"\n",
              "              title=\"Convert this dataframe to an interactive table.\"\n",
              "              style=\"display:none;\">\n",
              "        \n",
              "  <svg xmlns=\"http://www.w3.org/2000/svg\" height=\"24px\"viewBox=\"0 0 24 24\"\n",
              "       width=\"24px\">\n",
              "    <path d=\"M0 0h24v24H0V0z\" fill=\"none\"/>\n",
              "    <path d=\"M18.56 5.44l.94 2.06.94-2.06 2.06-.94-2.06-.94-.94-2.06-.94 2.06-2.06.94zm-11 1L8.5 8.5l.94-2.06 2.06-.94-2.06-.94L8.5 2.5l-.94 2.06-2.06.94zm10 10l.94 2.06.94-2.06 2.06-.94-2.06-.94-.94-2.06-.94 2.06-2.06.94z\"/><path d=\"M17.41 7.96l-1.37-1.37c-.4-.4-.92-.59-1.43-.59-.52 0-1.04.2-1.43.59L10.3 9.45l-7.72 7.72c-.78.78-.78 2.05 0 2.83L4 21.41c.39.39.9.59 1.41.59.51 0 1.02-.2 1.41-.59l7.78-7.78 2.81-2.81c.8-.78.8-2.07 0-2.86zM5.41 20L4 18.59l7.72-7.72 1.47 1.35L5.41 20z\"/>\n",
              "  </svg>\n",
              "      </button>\n",
              "      \n",
              "  <style>\n",
              "    .colab-df-container {\n",
              "      display:flex;\n",
              "      flex-wrap:wrap;\n",
              "      gap: 12px;\n",
              "    }\n",
              "\n",
              "    .colab-df-convert {\n",
              "      background-color: #E8F0FE;\n",
              "      border: none;\n",
              "      border-radius: 50%;\n",
              "      cursor: pointer;\n",
              "      display: none;\n",
              "      fill: #1967D2;\n",
              "      height: 32px;\n",
              "      padding: 0 0 0 0;\n",
              "      width: 32px;\n",
              "    }\n",
              "\n",
              "    .colab-df-convert:hover {\n",
              "      background-color: #E2EBFA;\n",
              "      box-shadow: 0px 1px 2px rgba(60, 64, 67, 0.3), 0px 1px 3px 1px rgba(60, 64, 67, 0.15);\n",
              "      fill: #174EA6;\n",
              "    }\n",
              "\n",
              "    [theme=dark] .colab-df-convert {\n",
              "      background-color: #3B4455;\n",
              "      fill: #D2E3FC;\n",
              "    }\n",
              "\n",
              "    [theme=dark] .colab-df-convert:hover {\n",
              "      background-color: #434B5C;\n",
              "      box-shadow: 0px 1px 3px 1px rgba(0, 0, 0, 0.15);\n",
              "      filter: drop-shadow(0px 1px 2px rgba(0, 0, 0, 0.3));\n",
              "      fill: #FFFFFF;\n",
              "    }\n",
              "  </style>\n",
              "\n",
              "      <script>\n",
              "        const buttonEl =\n",
              "          document.querySelector('#df-54c200cc-176a-43c6-b967-b4ce7a102f16 button.colab-df-convert');\n",
              "        buttonEl.style.display =\n",
              "          google.colab.kernel.accessAllowed ? 'block' : 'none';\n",
              "\n",
              "        async function convertToInteractive(key) {\n",
              "          const element = document.querySelector('#df-54c200cc-176a-43c6-b967-b4ce7a102f16');\n",
              "          const dataTable =\n",
              "            await google.colab.kernel.invokeFunction('convertToInteractive',\n",
              "                                                     [key], {});\n",
              "          if (!dataTable) return;\n",
              "\n",
              "          const docLinkHtml = 'Like what you see? Visit the ' +\n",
              "            '<a target=\"_blank\" href=https://colab.research.google.com/notebooks/data_table.ipynb>data table notebook</a>'\n",
              "            + ' to learn more about interactive tables.';\n",
              "          element.innerHTML = '';\n",
              "          dataTable['output_type'] = 'display_data';\n",
              "          await google.colab.output.renderOutput(dataTable, element);\n",
              "          const docLink = document.createElement('div');\n",
              "          docLink.innerHTML = docLinkHtml;\n",
              "          element.appendChild(docLink);\n",
              "        }\n",
              "      </script>\n",
              "    </div>\n",
              "  </div>\n",
              "  "
            ]
          },
          "metadata": {},
          "execution_count": 15
        }
      ]
    },
    {
      "cell_type": "markdown",
      "source": [
        "#Data Normalization#"
      ],
      "metadata": {
        "id": "pPfYn-laupYa"
      }
    },
    {
      "cell_type": "code",
      "source": [
        "from sklearn.preprocessing import MinMaxScaler\n",
        "scaler = MinMaxScaler()\n",
        "data = scaler.fit_transform(dataset03)\n",
        "data"
      ],
      "metadata": {
        "colab": {
          "base_uri": "https://localhost:8080/"
        },
        "id": "1lm75ImzuR_C",
        "outputId": "98837824-95ab-4f0f-ea88-d17957298f6e"
      },
      "execution_count": 16,
      "outputs": [
        {
          "output_type": "execute_result",
          "data": {
            "text/plain": [
              "array([[0.62538848, 0.53316552, 0.99298461, 0.03573802, 1.        ],\n",
              "       [0.60080565, 0.53321943, 0.98278046, 0.06052042, 0.        ],\n",
              "       [0.60986448, 0.53318042, 0.98483585, 0.06211258, 0.        ],\n",
              "       ...,\n",
              "       [0.66110217, 0.28435546, 0.99507448, 0.09873651, 0.        ],\n",
              "       [0.64606721, 0.30202947, 0.99536012, 0.05545617, 0.        ],\n",
              "       [0.62252113, 0.32973938, 0.99833388, 0.0117413 , 1.        ]])"
            ]
          },
          "metadata": {},
          "execution_count": 16
        }
      ]
    },
    {
      "cell_type": "markdown",
      "source": [
        "#Data Split#"
      ],
      "metadata": {
        "id": "rPdMGF_lxdQ0"
      }
    },
    {
      "cell_type": "code",
      "source": [
        "from sklearn.model_selection import train_test_split\n",
        "df_train, df_test = train_test_split(data, train_size = 0.7, test_size = 0.3, random_state = 100)"
      ],
      "metadata": {
        "id": "LlZbTBEep_oG"
      },
      "execution_count": 17,
      "outputs": []
    },
    {
      "cell_type": "code",
      "source": [
        "y_train = df_train[:,4]\n",
        "X_train = df_train[:,0:4]\n",
        "y_test = df_test[:,4]\n",
        "X_test = df_test[:,0:4]"
      ],
      "metadata": {
        "id": "BLrvtZCsqVHO"
      },
      "execution_count": 18,
      "outputs": []
    },
    {
      "cell_type": "markdown",
      "source": [
        "#Random Forest Model#"
      ],
      "metadata": {
        "id": "h043GTfsxgYM"
      }
    },
    {
      "cell_type": "code",
      "source": [
        "#Fitting Decision Tree classifier to the training set  \n",
        "from sklearn.ensemble import RandomForestClassifier  \n",
        "classifier= RandomForestClassifier(n_estimators= 1, criterion=\"entropy\")  #criterion=\"gini\"\n",
        "classifier.fit(X_train, y_train)"
      ],
      "metadata": {
        "colab": {
          "base_uri": "https://localhost:8080/"
        },
        "id": "JzReEsqFw4R8",
        "outputId": "3ef8d4ee-3065-4229-c7e5-e9641f551c4e"
      },
      "execution_count": null,
      "outputs": [
        {
          "output_type": "execute_result",
          "data": {
            "text/plain": [
              "RandomForestClassifier(criterion='entropy', n_estimators=1)"
            ]
          },
          "metadata": {},
          "execution_count": 31
        }
      ]
    },
    {
      "cell_type": "code",
      "source": [
        "#Predicting the test set result  \n",
        "y_pred_test= classifier.predict(X_test)\n",
        "y_pred_train= classifier.predict(X_train)"
      ],
      "metadata": {
        "id": "Ja2XAiKgyApn"
      },
      "execution_count": null,
      "outputs": []
    },
    {
      "cell_type": "code",
      "source": [
        "from sklearn import metrics #Import scikit-learn metrics module for accuracy calculation\n",
        "print(\"Testing Accuracy:\",metrics.accuracy_score(y_test, y_pred_test))\n",
        "print(\"Training Accuracy:\",metrics.accuracy_score(y_train, y_pred_train))"
      ],
      "metadata": {
        "colab": {
          "base_uri": "https://localhost:8080/"
        },
        "id": "Caigl485yMmP",
        "outputId": "cea4da98-9a62-4bb0-ba9a-a5508095d3d6"
      },
      "execution_count": null,
      "outputs": [
        {
          "output_type": "stream",
          "name": "stdout",
          "text": [
            "Testing Accuracy: 0.9933333333333333\n",
            "Training Accuracy: 0.9928263988522238\n"
          ]
        }
      ]
    },
    {
      "cell_type": "markdown",
      "source": [
        "#Logistic Regression Model#"
      ],
      "metadata": {
        "id": "u3AEUDBazPbs"
      }
    },
    {
      "cell_type": "code",
      "source": [
        "from sklearn.linear_model import LogisticRegression\n",
        "lr_model = LogisticRegression()\n",
        "lr_model.fit(X_train,y_train)"
      ],
      "metadata": {
        "id": "Dns2C1SGyo7D",
        "outputId": "c15d2872-4e4b-4466-83a9-6685518a5ffb",
        "colab": {
          "base_uri": "https://localhost:8080/"
        }
      },
      "execution_count": 19,
      "outputs": [
        {
          "output_type": "execute_result",
          "data": {
            "text/plain": [
              "LogisticRegression()"
            ]
          },
          "metadata": {},
          "execution_count": 19
        }
      ]
    },
    {
      "cell_type": "code",
      "source": [
        "#Predicting the test set result  \n",
        "y_pred_test= lr_model.predict(X_test)\n",
        "y_pred_train= lr_model.predict(X_train)"
      ],
      "metadata": {
        "id": "hJb-N8VAvwk2"
      },
      "execution_count": 20,
      "outputs": []
    },
    {
      "cell_type": "code",
      "source": [
        "from sklearn import metrics #Import scikit-learn metrics module for accuracy calculation\n",
        "print(\"Testing Accuracy:\",metrics.accuracy_score(y_test, y_pred_test))\n",
        "print(\"Training Accuracy:\",metrics.accuracy_score(y_train, y_pred_train))"
      ],
      "metadata": {
        "id": "K_akZM2bvzq9",
        "outputId": "c51eeed9-30d1-40c6-c1d8-1d8aa4c262c7",
        "colab": {
          "base_uri": "https://localhost:8080/"
        }
      },
      "execution_count": 21,
      "outputs": [
        {
          "output_type": "stream",
          "name": "stdout",
          "text": [
            "Testing Accuracy: 0.9533333333333334\n",
            "Training Accuracy: 0.9526542324246772\n"
          ]
        }
      ]
    },
    {
      "cell_type": "code",
      "source": [
        "from sklearn.metrics import confusion_matrix\n",
        "confusion_matrix(y_test, y_pred_test)"
      ],
      "metadata": {
        "id": "Y00CX0-1pRlE",
        "outputId": "571004bd-4551-43f1-9bb0-1b0cb1a3a946",
        "colab": {
          "base_uri": "https://localhost:8080/"
        }
      },
      "execution_count": 22,
      "outputs": [
        {
          "output_type": "execute_result",
          "data": {
            "text/plain": [
              "array([[286,   0],\n",
              "       [ 14,   0]])"
            ]
          },
          "metadata": {},
          "execution_count": 22
        }
      ]
    },
    {
      "cell_type": "code",
      "source": [
        "confusion_matrix(y_train, y_pred_train)"
      ],
      "metadata": {
        "id": "jYvSFtwvpR9V",
        "outputId": "8a6d8c02-00e9-46e9-d072-ad2612f75260",
        "colab": {
          "base_uri": "https://localhost:8080/"
        }
      },
      "execution_count": 23,
      "outputs": [
        {
          "output_type": "execute_result",
          "data": {
            "text/plain": [
              "array([[664,   0],\n",
              "       [ 33,   0]])"
            ]
          },
          "metadata": {},
          "execution_count": 23
        }
      ]
    },
    {
      "cell_type": "code",
      "source": [
        "import pickle\n",
        "# Save the model\n",
        "filename = 'LGR.pkl'\n",
        "pickle.dump(lr_model, open(filename, 'wb'))"
      ],
      "metadata": {
        "id": "DJE0d7KDCLGf"
      },
      "execution_count": 24,
      "outputs": []
    },
    {
      "cell_type": "code",
      "source": [
        "filename = 'LGR.pkl'\n",
        "loaded_model = pickle.load(open(filename, 'rb'))\n",
        "result = loaded_model.predict(X_test)\n",
        "result"
      ],
      "metadata": {
        "id": "WZtyNSviDHQ9",
        "outputId": "b6fb3210-d341-476e-ac15-475930add04c",
        "colab": {
          "base_uri": "https://localhost:8080/"
        }
      },
      "execution_count": 25,
      "outputs": [
        {
          "output_type": "execute_result",
          "data": {
            "text/plain": [
              "array([0., 0., 0., 0., 0., 0., 0., 0., 0., 0., 0., 0., 0., 0., 0., 0., 0.,\n",
              "       0., 0., 0., 0., 0., 0., 0., 0., 0., 0., 0., 0., 0., 0., 0., 0., 0.,\n",
              "       0., 0., 0., 0., 0., 0., 0., 0., 0., 0., 0., 0., 0., 0., 0., 0., 0.,\n",
              "       0., 0., 0., 0., 0., 0., 0., 0., 0., 0., 0., 0., 0., 0., 0., 0., 0.,\n",
              "       0., 0., 0., 0., 0., 0., 0., 0., 0., 0., 0., 0., 0., 0., 0., 0., 0.,\n",
              "       0., 0., 0., 0., 0., 0., 0., 0., 0., 0., 0., 0., 0., 0., 0., 0., 0.,\n",
              "       0., 0., 0., 0., 0., 0., 0., 0., 0., 0., 0., 0., 0., 0., 0., 0., 0.,\n",
              "       0., 0., 0., 0., 0., 0., 0., 0., 0., 0., 0., 0., 0., 0., 0., 0., 0.,\n",
              "       0., 0., 0., 0., 0., 0., 0., 0., 0., 0., 0., 0., 0., 0., 0., 0., 0.,\n",
              "       0., 0., 0., 0., 0., 0., 0., 0., 0., 0., 0., 0., 0., 0., 0., 0., 0.,\n",
              "       0., 0., 0., 0., 0., 0., 0., 0., 0., 0., 0., 0., 0., 0., 0., 0., 0.,\n",
              "       0., 0., 0., 0., 0., 0., 0., 0., 0., 0., 0., 0., 0., 0., 0., 0., 0.,\n",
              "       0., 0., 0., 0., 0., 0., 0., 0., 0., 0., 0., 0., 0., 0., 0., 0., 0.,\n",
              "       0., 0., 0., 0., 0., 0., 0., 0., 0., 0., 0., 0., 0., 0., 0., 0., 0.,\n",
              "       0., 0., 0., 0., 0., 0., 0., 0., 0., 0., 0., 0., 0., 0., 0., 0., 0.,\n",
              "       0., 0., 0., 0., 0., 0., 0., 0., 0., 0., 0., 0., 0., 0., 0., 0., 0.,\n",
              "       0., 0., 0., 0., 0., 0., 0., 0., 0., 0., 0., 0., 0., 0., 0., 0., 0.,\n",
              "       0., 0., 0., 0., 0., 0., 0., 0., 0., 0., 0.])"
            ]
          },
          "metadata": {},
          "execution_count": 25
        }
      ]
    },
    {
      "cell_type": "code",
      "source": [
        "# load dataset\n",
        "dataset_test = pd.read_excel(\"/content/drive/MyDrive/B.Tech Projects/2021-2022/ZCP/Result Analysis/Noise/Testsignal.xlsx\")\n",
        "dataset_test.head()"
      ],
      "metadata": {
        "id": "YIvy3AuHMA2L",
        "outputId": "061f1558-6387-4e69-c457-7f764110ca99",
        "colab": {
          "base_uri": "https://localhost:8080/",
          "height": 206
        }
      },
      "execution_count": 26,
      "outputs": [
        {
          "output_type": "execute_result",
          "data": {
            "text/plain": [
              "            m         c         r         e  l\n",
              "0  323.707793 -0.001276  0.985857  0.007952  1\n",
              "1  598.980836 -0.172329  0.977641  0.053721  0\n",
              "2  330.918134 -0.006196  0.705578  0.052829  0\n",
              "3  529.666009 -0.348752  0.968744  0.059864  0\n",
              "4  411.740579 -0.238543  0.735847  0.066133  0"
            ],
            "text/html": [
              "\n",
              "  <div id=\"df-38fb6c83-3625-464e-979c-6a808a35f930\">\n",
              "    <div class=\"colab-df-container\">\n",
              "      <div>\n",
              "<style scoped>\n",
              "    .dataframe tbody tr th:only-of-type {\n",
              "        vertical-align: middle;\n",
              "    }\n",
              "\n",
              "    .dataframe tbody tr th {\n",
              "        vertical-align: top;\n",
              "    }\n",
              "\n",
              "    .dataframe thead th {\n",
              "        text-align: right;\n",
              "    }\n",
              "</style>\n",
              "<table border=\"1\" class=\"dataframe\">\n",
              "  <thead>\n",
              "    <tr style=\"text-align: right;\">\n",
              "      <th></th>\n",
              "      <th>m</th>\n",
              "      <th>c</th>\n",
              "      <th>r</th>\n",
              "      <th>e</th>\n",
              "      <th>l</th>\n",
              "    </tr>\n",
              "  </thead>\n",
              "  <tbody>\n",
              "    <tr>\n",
              "      <th>0</th>\n",
              "      <td>323.707793</td>\n",
              "      <td>-0.001276</td>\n",
              "      <td>0.985857</td>\n",
              "      <td>0.007952</td>\n",
              "      <td>1</td>\n",
              "    </tr>\n",
              "    <tr>\n",
              "      <th>1</th>\n",
              "      <td>598.980836</td>\n",
              "      <td>-0.172329</td>\n",
              "      <td>0.977641</td>\n",
              "      <td>0.053721</td>\n",
              "      <td>0</td>\n",
              "    </tr>\n",
              "    <tr>\n",
              "      <th>2</th>\n",
              "      <td>330.918134</td>\n",
              "      <td>-0.006196</td>\n",
              "      <td>0.705578</td>\n",
              "      <td>0.052829</td>\n",
              "      <td>0</td>\n",
              "    </tr>\n",
              "    <tr>\n",
              "      <th>3</th>\n",
              "      <td>529.666009</td>\n",
              "      <td>-0.348752</td>\n",
              "      <td>0.968744</td>\n",
              "      <td>0.059864</td>\n",
              "      <td>0</td>\n",
              "    </tr>\n",
              "    <tr>\n",
              "      <th>4</th>\n",
              "      <td>411.740579</td>\n",
              "      <td>-0.238543</td>\n",
              "      <td>0.735847</td>\n",
              "      <td>0.066133</td>\n",
              "      <td>0</td>\n",
              "    </tr>\n",
              "  </tbody>\n",
              "</table>\n",
              "</div>\n",
              "      <button class=\"colab-df-convert\" onclick=\"convertToInteractive('df-38fb6c83-3625-464e-979c-6a808a35f930')\"\n",
              "              title=\"Convert this dataframe to an interactive table.\"\n",
              "              style=\"display:none;\">\n",
              "        \n",
              "  <svg xmlns=\"http://www.w3.org/2000/svg\" height=\"24px\"viewBox=\"0 0 24 24\"\n",
              "       width=\"24px\">\n",
              "    <path d=\"M0 0h24v24H0V0z\" fill=\"none\"/>\n",
              "    <path d=\"M18.56 5.44l.94 2.06.94-2.06 2.06-.94-2.06-.94-.94-2.06-.94 2.06-2.06.94zm-11 1L8.5 8.5l.94-2.06 2.06-.94-2.06-.94L8.5 2.5l-.94 2.06-2.06.94zm10 10l.94 2.06.94-2.06 2.06-.94-2.06-.94-.94-2.06-.94 2.06-2.06.94z\"/><path d=\"M17.41 7.96l-1.37-1.37c-.4-.4-.92-.59-1.43-.59-.52 0-1.04.2-1.43.59L10.3 9.45l-7.72 7.72c-.78.78-.78 2.05 0 2.83L4 21.41c.39.39.9.59 1.41.59.51 0 1.02-.2 1.41-.59l7.78-7.78 2.81-2.81c.8-.78.8-2.07 0-2.86zM5.41 20L4 18.59l7.72-7.72 1.47 1.35L5.41 20z\"/>\n",
              "  </svg>\n",
              "      </button>\n",
              "      \n",
              "  <style>\n",
              "    .colab-df-container {\n",
              "      display:flex;\n",
              "      flex-wrap:wrap;\n",
              "      gap: 12px;\n",
              "    }\n",
              "\n",
              "    .colab-df-convert {\n",
              "      background-color: #E8F0FE;\n",
              "      border: none;\n",
              "      border-radius: 50%;\n",
              "      cursor: pointer;\n",
              "      display: none;\n",
              "      fill: #1967D2;\n",
              "      height: 32px;\n",
              "      padding: 0 0 0 0;\n",
              "      width: 32px;\n",
              "    }\n",
              "\n",
              "    .colab-df-convert:hover {\n",
              "      background-color: #E2EBFA;\n",
              "      box-shadow: 0px 1px 2px rgba(60, 64, 67, 0.3), 0px 1px 3px 1px rgba(60, 64, 67, 0.15);\n",
              "      fill: #174EA6;\n",
              "    }\n",
              "\n",
              "    [theme=dark] .colab-df-convert {\n",
              "      background-color: #3B4455;\n",
              "      fill: #D2E3FC;\n",
              "    }\n",
              "\n",
              "    [theme=dark] .colab-df-convert:hover {\n",
              "      background-color: #434B5C;\n",
              "      box-shadow: 0px 1px 3px 1px rgba(0, 0, 0, 0.15);\n",
              "      filter: drop-shadow(0px 1px 2px rgba(0, 0, 0, 0.3));\n",
              "      fill: #FFFFFF;\n",
              "    }\n",
              "  </style>\n",
              "\n",
              "      <script>\n",
              "        const buttonEl =\n",
              "          document.querySelector('#df-38fb6c83-3625-464e-979c-6a808a35f930 button.colab-df-convert');\n",
              "        buttonEl.style.display =\n",
              "          google.colab.kernel.accessAllowed ? 'block' : 'none';\n",
              "\n",
              "        async function convertToInteractive(key) {\n",
              "          const element = document.querySelector('#df-38fb6c83-3625-464e-979c-6a808a35f930');\n",
              "          const dataTable =\n",
              "            await google.colab.kernel.invokeFunction('convertToInteractive',\n",
              "                                                     [key], {});\n",
              "          if (!dataTable) return;\n",
              "\n",
              "          const docLinkHtml = 'Like what you see? Visit the ' +\n",
              "            '<a target=\"_blank\" href=https://colab.research.google.com/notebooks/data_table.ipynb>data table notebook</a>'\n",
              "            + ' to learn more about interactive tables.';\n",
              "          element.innerHTML = '';\n",
              "          dataTable['output_type'] = 'display_data';\n",
              "          await google.colab.output.renderOutput(dataTable, element);\n",
              "          const docLink = document.createElement('div');\n",
              "          docLink.innerHTML = docLinkHtml;\n",
              "          element.appendChild(docLink);\n",
              "        }\n",
              "      </script>\n",
              "    </div>\n",
              "  </div>\n",
              "  "
            ]
          },
          "metadata": {},
          "execution_count": 26
        }
      ]
    },
    {
      "cell_type": "code",
      "source": [
        "from sklearn.preprocessing import MinMaxScaler\n",
        "scaler = MinMaxScaler()\n",
        "data = scaler.fit_transform(dataset_test)\n",
        "data"
      ],
      "metadata": {
        "id": "fngf7u6MMPn_",
        "outputId": "8a1c7db2-d4a9-4f9e-c58c-a7b0edf86d17",
        "colab": {
          "base_uri": "https://localhost:8080/"
        }
      },
      "execution_count": 28,
      "outputs": [
        {
          "output_type": "execute_result",
          "data": {
            "text/plain": [
              "array([[0.76072854, 0.47080851, 0.99346687, 0.03597133, 1.        ],\n",
              "       [1.        , 0.45945448, 0.98925174, 0.37724787, 0.        ],\n",
              "       [0.76699588, 0.47048192, 0.8496702 , 0.3705947 , 0.        ],\n",
              "       [0.93975051, 0.44774397, 0.98468738, 0.4230539 , 0.        ],\n",
              "       [0.83724796, 0.45505937, 0.86519998, 0.46980162, 0.        ],\n",
              "       [0.39813207, 0.53822898, 0.25052258, 0.35778124, 0.        ],\n",
              "       [0.0740169 , 0.62008007, 0.09181539, 0.99761759, 0.        ],\n",
              "       [0.17017112, 0.61983707, 0.24033465, 0.82196617, 0.        ],\n",
              "       [0.46313603, 0.53957523, 0.48345769, 0.30574313, 0.        ],\n",
              "       [0.81200428, 0.42101241, 0.96080287, 0.53844089, 0.        ],\n",
              "       [0.50810035, 0.52152699, 0.39283052, 0.59597996, 0.        ],\n",
              "       [0.38991984, 0.57715938, 0.544401  , 0.65954554, 0.        ],\n",
              "       [0.88698564, 0.34209568, 0.        , 0.66898718, 0.        ],\n",
              "       [0.70077771, 0.41359121, 0.29674219, 0.84016317, 0.        ],\n",
              "       [0.30160378, 0.61979183, 0.74098496, 0.3676402 , 0.        ],\n",
              "       [0.5009288 , 0.49957153, 0.44440848, 0.4556033 , 0.        ],\n",
              "       [0.09252584, 0.75067864, 0.92485382, 0.39015609, 0.        ],\n",
              "       [0.08124584, 0.7620671 , 0.9894743 , 0.18707302, 0.        ],\n",
              "       [0.30143763, 0.6127714 , 0.86028887, 0.21074111, 0.        ],\n",
              "       [0.19125736, 0.69021178, 0.99559926, 0.04168064, 0.        ],\n",
              "       [0.20239267, 0.68250831, 0.99962192, 0.        , 1.        ],\n",
              "       [0.1770749 , 0.70271809, 0.97100378, 0.13571152, 0.        ],\n",
              "       [0.05189201, 0.81270074, 0.94171403, 0.32878059, 0.        ],\n",
              "       [0.44162701, 0.47222154, 0.55071089, 0.44242284, 0.        ],\n",
              "       [0.726773  , 0.1953671 , 0.13295632, 0.68741195, 0.        ],\n",
              "       [0.56983653, 0.33430627, 0.39338657, 0.61309485, 0.        ],\n",
              "       [0.14318223, 0.75591616, 0.8407689 , 0.51138926, 0.        ],\n",
              "       [0.29187736, 0.60630543, 0.69186109, 0.52593909, 0.        ],\n",
              "       [0.55959881, 0.32366202, 0.35314704, 0.61656371, 0.        ],\n",
              "       [0.19200376, 0.73233282, 0.6760928 , 0.88730838, 0.        ],\n",
              "       [0.47853722, 0.40475914, 0.3740283 , 0.43933121, 0.        ],\n",
              "       [0.57226697, 0.29518184, 0.61414875, 0.51609053, 0.        ],\n",
              "       [0.        , 1.        , 0.15225103, 1.        , 0.        ],\n",
              "       [0.46932961, 0.42802008, 0.45859597, 0.48177244, 0.        ],\n",
              "       [0.23462792, 0.74588947, 0.15549139, 0.78947236, 0.        ],\n",
              "       [0.666381  , 0.17348333, 0.85619585, 0.21152399, 0.        ],\n",
              "       [0.56140281, 0.32253071, 0.6784257 , 0.31227423, 0.        ],\n",
              "       [0.75334809, 0.05234198, 0.88660489, 0.26724084, 0.        ],\n",
              "       [0.72582972, 0.09326491, 1.        , 0.0148835 , 0.        ],\n",
              "       [0.78789553, 0.        , 0.99863286, 0.0554607 , 0.        ],\n",
              "       [0.76000614, 0.0422343 , 0.99980402, 0.00190214, 1.        ]])"
            ]
          },
          "metadata": {},
          "execution_count": 28
        }
      ]
    },
    {
      "cell_type": "code",
      "source": [
        "X_test_signal=data[:,0:4]\n",
        "X_test_signal"
      ],
      "metadata": {
        "id": "r5UlhTyTMXWb",
        "outputId": "550cd995-2db8-465d-f9ea-8cc5afc4e01b",
        "colab": {
          "base_uri": "https://localhost:8080/"
        }
      },
      "execution_count": 33,
      "outputs": [
        {
          "output_type": "execute_result",
          "data": {
            "text/plain": [
              "array([[0.76072854, 0.47080851, 0.99346687, 0.03597133],\n",
              "       [1.        , 0.45945448, 0.98925174, 0.37724787],\n",
              "       [0.76699588, 0.47048192, 0.8496702 , 0.3705947 ],\n",
              "       [0.93975051, 0.44774397, 0.98468738, 0.4230539 ],\n",
              "       [0.83724796, 0.45505937, 0.86519998, 0.46980162],\n",
              "       [0.39813207, 0.53822898, 0.25052258, 0.35778124],\n",
              "       [0.0740169 , 0.62008007, 0.09181539, 0.99761759],\n",
              "       [0.17017112, 0.61983707, 0.24033465, 0.82196617],\n",
              "       [0.46313603, 0.53957523, 0.48345769, 0.30574313],\n",
              "       [0.81200428, 0.42101241, 0.96080287, 0.53844089],\n",
              "       [0.50810035, 0.52152699, 0.39283052, 0.59597996],\n",
              "       [0.38991984, 0.57715938, 0.544401  , 0.65954554],\n",
              "       [0.88698564, 0.34209568, 0.        , 0.66898718],\n",
              "       [0.70077771, 0.41359121, 0.29674219, 0.84016317],\n",
              "       [0.30160378, 0.61979183, 0.74098496, 0.3676402 ],\n",
              "       [0.5009288 , 0.49957153, 0.44440848, 0.4556033 ],\n",
              "       [0.09252584, 0.75067864, 0.92485382, 0.39015609],\n",
              "       [0.08124584, 0.7620671 , 0.9894743 , 0.18707302],\n",
              "       [0.30143763, 0.6127714 , 0.86028887, 0.21074111],\n",
              "       [0.19125736, 0.69021178, 0.99559926, 0.04168064],\n",
              "       [0.20239267, 0.68250831, 0.99962192, 0.        ],\n",
              "       [0.1770749 , 0.70271809, 0.97100378, 0.13571152],\n",
              "       [0.05189201, 0.81270074, 0.94171403, 0.32878059],\n",
              "       [0.44162701, 0.47222154, 0.55071089, 0.44242284],\n",
              "       [0.726773  , 0.1953671 , 0.13295632, 0.68741195],\n",
              "       [0.56983653, 0.33430627, 0.39338657, 0.61309485],\n",
              "       [0.14318223, 0.75591616, 0.8407689 , 0.51138926],\n",
              "       [0.29187736, 0.60630543, 0.69186109, 0.52593909],\n",
              "       [0.55959881, 0.32366202, 0.35314704, 0.61656371],\n",
              "       [0.19200376, 0.73233282, 0.6760928 , 0.88730838],\n",
              "       [0.47853722, 0.40475914, 0.3740283 , 0.43933121],\n",
              "       [0.57226697, 0.29518184, 0.61414875, 0.51609053],\n",
              "       [0.        , 1.        , 0.15225103, 1.        ],\n",
              "       [0.46932961, 0.42802008, 0.45859597, 0.48177244],\n",
              "       [0.23462792, 0.74588947, 0.15549139, 0.78947236],\n",
              "       [0.666381  , 0.17348333, 0.85619585, 0.21152399],\n",
              "       [0.56140281, 0.32253071, 0.6784257 , 0.31227423],\n",
              "       [0.75334809, 0.05234198, 0.88660489, 0.26724084],\n",
              "       [0.72582972, 0.09326491, 1.        , 0.0148835 ],\n",
              "       [0.78789553, 0.        , 0.99863286, 0.0554607 ],\n",
              "       [0.76000614, 0.0422343 , 0.99980402, 0.00190214]])"
            ]
          },
          "metadata": {},
          "execution_count": 33
        }
      ]
    },
    {
      "cell_type": "code",
      "source": [
        "y_pred_test_signal= lr_model.predict(X_test_signal)\n",
        "y_pred_test_signal"
      ],
      "metadata": {
        "id": "G26oYl84NBKa",
        "outputId": "f08f18ee-7fc7-428c-baaf-e993366c0d45",
        "colab": {
          "base_uri": "https://localhost:8080/"
        }
      },
      "execution_count": 35,
      "outputs": [
        {
          "output_type": "execute_result",
          "data": {
            "text/plain": [
              "array([0., 0., 0., 0., 0., 0., 0., 0., 0., 0., 0., 0., 0., 0., 0., 0., 0.,\n",
              "       0., 0., 0., 0., 0., 0., 0., 0., 0., 0., 0., 0., 0., 0., 0., 0., 0.,\n",
              "       0., 0., 0., 0., 0., 0., 0.])"
            ]
          },
          "metadata": {},
          "execution_count": 35
        }
      ]
    },
    {
      "cell_type": "markdown",
      "source": [
        "#Decision Tree#"
      ],
      "metadata": {
        "id": "g4vJsJY3wI34"
      }
    },
    {
      "cell_type": "code",
      "source": [
        "from sklearn.tree import DecisionTreeClassifier # Import Decision Tree Classifier"
      ],
      "metadata": {
        "id": "PTMKQohBv5Lu"
      },
      "execution_count": null,
      "outputs": []
    },
    {
      "cell_type": "code",
      "source": [
        "# Create Decision Tree classifer object\n",
        "clf = DecisionTreeClassifier(criterion=\"entropy\", max_depth=12)\n",
        "# Train Decision Tree Classifer\n",
        "clf = clf.fit(X_train,y_train)\n",
        "clf.get_depth()"
      ],
      "metadata": {
        "id": "WYuM-vgjwaVz",
        "outputId": "1483ba23-2e15-4348-ca33-08882b265b80",
        "colab": {
          "base_uri": "https://localhost:8080/"
        }
      },
      "execution_count": null,
      "outputs": [
        {
          "output_type": "execute_result",
          "data": {
            "text/plain": [
              "12"
            ]
          },
          "metadata": {},
          "execution_count": 15
        }
      ]
    },
    {
      "cell_type": "code",
      "source": [
        "#Predicting the test set result  \n",
        "y_pred_test= clf.predict(X_test)\n",
        "y_pred_train= clf.predict(X_train)"
      ],
      "metadata": {
        "id": "dqD7nhvFwb0_"
      },
      "execution_count": null,
      "outputs": []
    },
    {
      "cell_type": "code",
      "source": [
        "from sklearn import metrics #Import scikit-learn metrics module for accuracy calculation\n",
        "print(\"Testing Accuracy:\",metrics.accuracy_score(y_test, y_pred_test))\n",
        "print(\"Training Accuracy:\",metrics.accuracy_score(y_train, y_pred_train))"
      ],
      "metadata": {
        "id": "HFAtqiiewiRu",
        "outputId": "c149c809-d68a-43c1-a266-5a7f101b6a89",
        "colab": {
          "base_uri": "https://localhost:8080/"
        }
      },
      "execution_count": null,
      "outputs": [
        {
          "output_type": "stream",
          "name": "stdout",
          "text": [
            "Testing Accuracy: 0.9833333333333333\n",
            "Training Accuracy: 1.0\n"
          ]
        }
      ]
    },
    {
      "cell_type": "code",
      "source": [
        "from sklearn.metrics import confusion_matrix\n",
        "confusion_matrix(y_test, y_pred_test)"
      ],
      "metadata": {
        "id": "CHVhKTC11s45",
        "outputId": "dda94cc3-618e-4b3d-b5a7-38e5020dbcb6",
        "colab": {
          "base_uri": "https://localhost:8080/"
        }
      },
      "execution_count": null,
      "outputs": [
        {
          "output_type": "execute_result",
          "data": {
            "text/plain": [
              "array([[289,   4],\n",
              "       [  1,   6]])"
            ]
          },
          "metadata": {},
          "execution_count": 18
        }
      ]
    },
    {
      "cell_type": "code",
      "source": [
        "confusion_matrix(y_train, y_pred_train)"
      ],
      "metadata": {
        "id": "tKRghG792heo",
        "outputId": "ab98f014-7e9e-4478-96c7-bb8278d854db",
        "colab": {
          "base_uri": "https://localhost:8080/"
        }
      },
      "execution_count": null,
      "outputs": [
        {
          "output_type": "execute_result",
          "data": {
            "text/plain": [
              "array([[682,   0],\n",
              "       [  0,  15]])"
            ]
          },
          "metadata": {},
          "execution_count": 19
        }
      ]
    },
    {
      "cell_type": "code",
      "source": [
        ""
      ],
      "metadata": {
        "id": "erDNHUL0pHm7"
      },
      "execution_count": null,
      "outputs": []
    }
  ]
}